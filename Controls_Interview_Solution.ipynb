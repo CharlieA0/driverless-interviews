{
 "cells": [
  {
   "cell_type": "markdown",
   "metadata": {},
   "source": [
    "## Controls Interview Question\n",
    "First, the interviewee will be asked if they know of any kinematic and dynamics models for cars. If they do not, that's OK, they will work with this model:\n",
    "\n",
    "$\\dot{x} = v\\cos(\\theta)$\n",
    "\n",
    "$\\dot{y} = v\\sin(\\theta)$\n",
    "\n",
    "$\\dot{v} = u_1$\n",
    "\n",
    "$\\dot{\\theta} = \\frac{v}{L}\\tan(u_2)$\n",
    "\n",
    "\n",
    "Where $(x, y)$ is the position of the car, $v$ is the speed of the car, and $\\theta$ is the heading of the car. $u_1$ and $u_2$ are control inputs (namely, acceleration and steer angle). $L$ is a constant.\n",
    "\n",
    "The \"State\" of the car is represented by:"
   ]
  },
  {
   "cell_type": "code",
   "execution_count": 5,
   "metadata": {},
   "outputs": [],
   "source": [
    "class State:\n",
    "    def __init__(self, x, y, v, theta):\n",
    "        self.x = x\n",
    "        self.y = y\n",
    "        self.v = v\n",
    "        self.theta = theta\n",
    "        \n",
    "    def as_vector(self):\n",
    "        return np.array([\n",
    "                        [self.x],\n",
    "                        [self.y],\n",
    "                        [self.v],\n",
    "                        [self.theta]])"
   ]
  },
  {
   "cell_type": "markdown",
   "metadata": {},
   "source": [
    "Control inputs (along with the duration of application of the control input) are represented as:"
   ]
  },
  {
   "cell_type": "code",
   "execution_count": 6,
   "metadata": {},
   "outputs": [],
   "source": [
    "class Control:\n",
    "    def __init__(self, accel, steer, dt):\n",
    "        self.accel = accel\n",
    "        self.steer = steer\n",
    "        self.dt = dt"
   ]
  },
  {
   "cell_type": "markdown",
   "metadata": {},
   "source": [
    "Write a function that takes in initial_state and control_sequence below, simulates the dynamics of the car, and returns a list of instances of State. Assume that the control input is held at a constant for the dt duration."
   ]
  },
  {
   "cell_type": "code",
   "execution_count": 7,
   "metadata": {},
   "outputs": [],
   "source": [
    "import numpy as np\n",
    "import math\n",
    "\n",
    "def generate_ramp_control_seq(dt):\n",
    "    n_control = 100\n",
    "    ramp_slope = 0.2\n",
    "    accel = 0.1\n",
    "    controls = []\n",
    "    for i in range(n_control):\n",
    "        steer = i * dt * ramp_slope\n",
    "        controls.append(Control(accel, steer, dt))\n",
    "    return controls\n",
    "\n",
    "L = 1.53\n",
    "initial_x = 0.0\n",
    "initial_y = 0.0\n",
    "initial_v = 1.0\n",
    "initial_theta = 0.0\n",
    "\n",
    "initial_state = State(initial_x, initial_y, initial_v, initial_theta)\n",
    "control_sequence = generate_ramp_control_seq(dt = 0.01)"
   ]
  },
  {
   "cell_type": "markdown",
   "metadata": {},
   "source": [
    "## Reference Answer and Results Checker"
   ]
  },
  {
   "cell_type": "code",
   "execution_count": 9,
   "metadata": {},
   "outputs": [
    {
     "data": {
      "image/png": "[encoded data removed]",
      "text/plain": [
       "<Figure size 432x288 with 1 Axes>"
      ]
     },
     "metadata": {
      "needs_background": "light"
     },
     "output_type": "display_data"
    }
   ],
   "source": [
    "import matplotlib.pyplot as plt\n",
    "\n",
    "def vector_to_state(vec):\n",
    "    return State(vec[0][0], vec[1][0], vec[2][0], vec[3][0])\n",
    "\n",
    "def plot_position(states):\n",
    "    xs = [s.x for s in states]\n",
    "    ys = [s.y for s in states]\n",
    "    plt.plot(xs, ys)\n",
    "    plt.show()\n",
    "\n",
    "class KinematicModel:\n",
    "    def __init__(self, initial_state, L):\n",
    "        self.state = initial_state\n",
    "        self.L = L\n",
    "        \n",
    "    def update_model(self, control):\n",
    "        xdot = self.state.v * math.cos(self.state.theta)\n",
    "        ydot = self.state.v * math.sin(self.state.theta)\n",
    "        vdot = control.accel\n",
    "        thetadot = (self.state.v/self.L) * math.tan(control.steer)\n",
    "        state_derivs = np.array([[xdot],\n",
    "                                 [ydot],\n",
    "                                 [vdot],\n",
    "                                 [thetadot]])\n",
    "        xnew = self.state.as_vector() + control.dt * state_derivs\n",
    "        self.state = vector_to_state(xnew)\n",
    "\n",
    "model = KinematicModel(initial_state, L)\n",
    "\n",
    "states = []\n",
    "for control in control_sequence:\n",
    "    model.update_model(control)\n",
    "    states.append(model.state)\n",
    "plot_position(states)"
   ]
  },
  {
   "cell_type": "code",
   "execution_count": null,
   "metadata": {},
   "outputs": [],
   "source": []
  }
 ],
 "metadata": {
  "kernelspec": {
   "display_name": "Python 3",
   "language": "python",
   "name": "python3"
  },
  "language_info": {
   "codemirror_mode": {
    "name": "ipython",
    "version": 3
   },
   "file_extension": ".py",
   "mimetype": "text/x-python",
   "name": "python",
   "nbconvert_exporter": "python",
   "pygments_lexer": "ipython3",
   "version": "3.8.0"
  }
 },
 "nbformat": 4,
 "nbformat_minor": 2
}
