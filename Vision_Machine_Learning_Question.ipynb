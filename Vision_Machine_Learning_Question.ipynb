{
 "cells": [
  {
   "cell_type": "markdown",
   "metadata": {},
   "source": [
    "# Computer Vision Problem\n",
    "\n",
    "Computer vision is a core component of our perception pipeline. This a basic question that asks you to manipulate ResNet-50 trained on ImageNet. \n",
    "\n",
    "**Note:** This question requires GPU acceleration. It should be run in Colab with: \n",
    "\n",
    "Runtime > Change Runtime type > Hardware accelerator > Gpu"
   ]
  },
  {
   "cell_type": "code",
   "execution_count": null,
   "metadata": {},
   "outputs": [],
   "source": []
  }
 ],
 "metadata": {
  "kernelspec": {
   "display_name": "Python 3",
   "language": "python",
   "name": "python3"
  },
  "language_info": {
   "codemirror_mode": {
    "name": "ipython",
    "version": 3
   },
   "file_extension": ".py",
   "mimetype": "text/x-python",
   "name": "python",
   "nbconvert_exporter": "python",
   "pygments_lexer": "ipython3",
   "version": "3.8.0"
  }
 },
 "nbformat": 4,
 "nbformat_minor": 4
}
