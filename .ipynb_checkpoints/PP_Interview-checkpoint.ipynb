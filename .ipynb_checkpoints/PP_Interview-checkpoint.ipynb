{
 "cells": [
  {
   "cell_type": "markdown",
   "metadata": {},
   "source": [
    "# Path Planning Interview Question\n",
    "\n",
    "One challenge for our indycar is to generate a trajectory that avoids crashing into competing vehicles. Historically, we've represented this path using cubic splines. \n"
   ]
  },
  {
   "cell_type": "markdown",
   "metadata": {},
   "source": [
    "A cubic spline is a curve formed from a sequence of polynomial segments\n",
    "\n",
    " <img src=\"img/cubic_spline.png\" width=\"500\"/>\n"
   ]
  },
  {
   "cell_type": "markdown",
   "metadata": {},
   "source": [
    "Each $i$th segment of the spline has a cubic equation,\n",
    "\n",
    "$$y_i(t) = a_i (t-x_i)^3 + b_i (t-x_i)^2 + c_i (t-x_i) + d_i \\; \\mathrm{for} \\; t \\in [x_i, x_{i+1})$$\n",
    "\n",
    "\n",
    "To simplify things, we're just going to work with one dimension, but can easily extend this to a 2D path like that of our car. \n",
    "\n",
    "We will constraint a few properties to make the curve useful to interpolate a path for our race car.\n",
    "\n",
    "1. $y_i(x_i) = y_i$ and $y_i(x_{i+1}) = y_{i+1}$ for $i = 1, 2, ..., n-1$\n",
    "2. $y_i'(x_i) = y_{i+1}'(x_{i+1})$ for $i = 1, 2, ..., n-2$\n",
    "3. $y_i''(x_i) = y_{i+1}''(x_{i+1})$ for $i = 1, 2, ..., n-2$\n",
    "\n",
    "Property 1 requires the curve to pass through all of the data points we specify. Properties 2 and 3 force the slope and curvature of the polynomial segments to be equal where they join. \n",
    "\n",
    "This gives us $3n - 3$ unknowns and $3n-5$ conditions. We'll impose the free boundary condition, $y_1''(x_1) = y_{n-1}'(x_n) = 0$, to add two more conditions and make the splines we calculate unique. \n",
    "\n",
    "In matrix form, we get\n",
    "\n",
    "$$\n",
    "\\begin{bmatrix}\n",
    "1 && 0 && 0 \\\\\n",
    "\\delta_1 && 2(\\delta_1 + \\delta_2) && \\delta_2 && \\ddots \\\\\n",
    "0 && \\delta_2 && 2(\\delta_2 + delta_3) \\\\\n",
    "&& \\ddots && \\ddots && \\ddots && \\\\ \n",
    "&& && && \\delta_{n-2} && 2 (\\delta_{n-2} + \\delta_{n-2}) && \\delta_{n-1} \\\\\n",
    "&& && && 0 && 0 && 1\n",
    "\\end{bmatrix}\n",
    "\\begin{bmatrix}\n",
    "c_1 \\\\\n",
    "\\vdots \\\\\n",
    "c_n\n",
    "\\end{bmatrix}\n",
    "=\n",
    "\\begin{bmatrix}\n",
    "0 \\\\\n",
    "3 (\\frac{\\Delta_2}{\\delta_2} - \\frac{\\Delta_1}{\\delta_1}) \\\\\n",
    "\\vdots \\\\\n",
    "3 (\\frac{\\Delta_{n-1}}{\\delta_{n-1}} - \\frac{\\Delta_{n-2}}{\\delta_{n-2}}) \\\\\n",
    "0\n",
    "\\end{bmatrix}\n",
    "$$\n",
    "\n",
    "$$d_i = \\frac{c_{i+1} - c_i}{3\\delta_i}$$\n",
    "\n",
    "$$b_i = \\frac{\\Delta_i}{\\delta_i} - \\frac{\\delta_i}{3} (2c_i + c_{i+1}) $$\n",
    "\n",
    "where $\\delta_i = x_{i+1} - x_i$ and $\\Delta_i = y_{i+1} - y_i$\n",
    "\n"
   ]
  },
  {
   "cell_type": "markdown",
   "metadata": {},
   "source": [
    "## The Problem\n",
    "\n",
    "Our goal is to solve for a spline interpolation through $n$ points. As can happens on a team, this functionality has already been partially implemented. Your job is to finish the existing code. \n",
    "\n",
    "There are four lines left to implement, marked with `#TODO`\n"
   ]
  },
  {
   "cell_type": "code",
   "execution_count": 3,
   "metadata": {},
   "outputs": [],
   "source": [
    "import numpy as np\n",
    "\n",
    "def cubic_spline(x, y, tol=1e-100):\n",
    "    \"\"\"\n",
    "    Interpolate using natural cubic splines.\n",
    "    \n",
    "    Generates a strictly diagonal dominant matrix then solves.\n",
    "    \n",
    "    Returns coefficients:\n",
    "    b, coefficient of x of degree 1\n",
    "    c, coefficient of x of degree 2\n",
    "    d, coefficient of x of degree 3\n",
    "    \"\"\" \n",
    "    \n",
    "    x = np.array(x)\n",
    "    y = np.array(y)\n",
    "    \n",
    "    # check if sorted\n",
    "    if np.any(np.diff(x) < 0):\n",
    "        idx = np.argsort(x)\n",
    "        x = x[idx]\n",
    "        y = y[idx]\n",
    "        \n",
    "    size = len(x)\n",
    "    delta_x = np.diff(x)\n",
    "    delta_y = np.diff(y)\n",
    "    \n",
    "    # Initialize to solve Ac = k\n",
    "    A = np.zeros(shape = (size,size))\n",
    "    k = np.zeros(shape=(size,1))\n",
    "    A[0,0] = 1\n",
    "    A[-1,-1] = 1\n",
    "    \n",
    "    for i in range(1,size-1):\n",
    "        \n",
    "        A[i, i-1] = # TODO\n",
    "        A[i, i+1] = # TODO\n",
    "        A[i,i] = # TODO\n",
    "        \n",
    "        k[i,0] = # TODO\n",
    "    \n",
    "    # Solves for c in Ac = k\n",
    "    c = np.linalg.solve(A, k)\n",
    "    \n",
    "    # Solves for d and b\n",
    "    d = np.zeros(shape = (size-1,1))\n",
    "    b = np.zeros(shape = (size-1,1))\n",
    "    for i in range(0,len(d)):\n",
    "        d[i] =  # TODO\n",
    "        b[i] =  # TODO    \n",
    "    \n",
    "    return x, y, b.squeeze(), c.squeeze(), d.squeeze()\n",
    "    \n",
    "    \n",
    "def evaluate_spline(x, y, b, c, d, t):\n",
    "    \n",
    "    if t < x[0] or t > x[-1]:\n",
    "        raise Exception(\"Can't extrapolate\")\n",
    "\n",
    "    # Index of segment to use\n",
    "    idx = np.argmax(x > t) - 1\n",
    "            \n",
    "    dx = t - x[idx]\n",
    "    value = y[idx] + b[idx]*dx + c[idx]*dx**2 + d[idx]*dx**3\n",
    "    return value\n",
    "\n",
    "def sample_spline(x, y, b, c, d, num=500):\n",
    "    \n",
    "    interp_y = np.zeros((num,))\n",
    "    t = np.linspace(x[0], x[-1], num=num, endpoint=False)\n",
    "    \n",
    "    for i, t_i in enumerate(t):\n",
    "        interp_y[i] = evaluate_spline(x, y, b, c, d, t_i)\n",
    "        \n",
    "    return t, interp_y\n",
    "        \n",
    "    "
   ]
  },
  {
   "cell_type": "code",
   "execution_count": 4,
   "metadata": {},
   "outputs": [
    {
     "data": {
      "text/plain": [
       "[<matplotlib.lines.Line2D at 0x7f57c80a72e0>]"
      ]
     },
     "execution_count": 4,
     "metadata": {},
     "output_type": "execute_result"
    },
    {
     "data": {
      "image/png": "[encoded data removed]",
      "text/plain": [
       "<Figure size 432x288 with 1 Axes>"
      ]
     },
     "metadata": {
      "needs_background": "light"
     },
     "output_type": "display_data"
    }
   ],
   "source": [
    "import random\n",
    "import matplotlib.pyplot as plt\n",
    "\n",
    "key_points= np.array([[random.random()*3.0,random.random()*2.0-1.0] for i in range(5)])\n",
    "\n",
    "plt.plot(key_points[:, 0], key_points[:, 1], \"*b\")\n",
    "\n",
    "x, y, b, c, d = cubic_spline(key_points[:, 0], key_points[:, 1])\n",
    "\n",
    "t, interp_y = sample_spline(x, y, b, c, d)\n",
    "\n",
    "\n",
    "plt.plot(t, interp_y)\n",
    "\n"
   ]
  }
 ],
 "metadata": {
  "kernelspec": {
   "display_name": "Python 3",
   "language": "python",
   "name": "python3"
  },
  "language_info": {
   "codemirror_mode": {
    "name": "ipython",
    "version": 3
   },
   "file_extension": ".py",
   "mimetype": "text/x-python",
   "name": "python",
   "nbconvert_exporter": "python",
   "pygments_lexer": "ipython3",
   "version": "3.8.0"
  }
 },
 "nbformat": 4,
 "nbformat_minor": 2
}
