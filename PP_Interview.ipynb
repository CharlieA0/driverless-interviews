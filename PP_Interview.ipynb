{
 "cells": [
  {
   "cell_type": "markdown",
   "metadata": {},
   "source": [
    "# Path Planning Interview Question\n",
    "\n",
    "One challenge for our indycar is to generate a trajectory that avoids crashing into competing vehicles. Historically, we've represented this path using cubic splines. \n"
   ]
  },
  {
   "cell_type": "markdown",
   "metadata": {},
   "source": [
    "The path of vehicle is represented using a cubic spline, this is a sequence of polynomial segments which are continuous to the third derivative. \n",
    "\n",
    " <img src=\"img/cubic_spline.png\" width=\"500\"/>\n"
   ]
  },
  {
   "cell_type": "markdown",
   "metadata": {},
   "source": [
    "Each $i$th segment of the spline has the equations,\n",
    "\n",
    "$$x(t) = a_x t^3 + b_x t^2 + c_x t + d_x$$\n",
    "$$y(t) = a_y t^3 + b_y t^2 + c_y t + d_y$$\n",
    "\n",
    "for $t \\in [0, 1)$.\n",
    "\n",
    "<img src=\"img/spline_segment.png\" width=\"500\"/>\n",
    "\n",
    "\n",
    "To simplify things, we're just going to work with one dimension, $x(t)$.\n",
    "\n",
    "Given $n$ points through which the spline passes, we can interpolate a cubic spline. Note that this each segment of this spline passes through each point and splines segments are constrained to connect and to be continuous to third derivative. \n",
    "\n",
    "We can solve the constraints to find the coefficients.\n",
    "\n",
    "$$ x(t) = a t^3 + b t^2 + c t + d$$\n",
    "$$ x'(t) = 3 a t^2 + 2 b t + c $$\n",
    "\n",
    "\n",
    "$$ x(0) = x_0 = d $$\n",
    "$$ x(1) = x_1 = a + b + c + d $$\n",
    "$$ x'(0) = x_0' = c $$\n",
    "$$ x'(1) = 3a + 2b + c $$\n",
    "\n",
    "We will use cubic polynomials in Hermite form for simplicity. In matrix form, they are:\n",
    "\n",
    "$$x(t) = \\begin{bmatrix} t^3 && t^2 && t & 1 \\end{bmatrix} \\begin{bmatrix} 2 && -2 && 1 && 1 \\\\\n",
    "                -3 && 3 && -2 && -1 \\\\\n",
    "                0 && 0 && 1 && 0 \\\\ \n",
    "                1 && 0 && 0 && 0 \\end{bmatrix} \\begin{bmatrix} \\mathbf{p}_0 \\\\ \\mathbf{p}_1 \\\\ \\mathbf{t}_0 \\\\ \\mathbf{t}_1 \\end{bmatrix} $$\n"
   ]
  },
  {
   "cell_type": "code",
   "execution_count": 2,
   "metadata": {},
   "outputs": [],
   "source": [
    "import numpy as np\n",
    "\n",
    "def cubic_spline(x, y, tol=1e-100):\n",
    "    \"\"\"\n",
    "    Interpolate using natural cubic splines.\n",
    "    \n",
    "    Generates a strictly diagonal dominant matrix then solves.\n",
    "    \n",
    "    Returns coefficients:\n",
    "    b, coefficient of x of degree 1\n",
    "    c, coefficient of x of degree 2\n",
    "    d, coefficient of x of degree 3\n",
    "    \"\"\" \n",
    "    \n",
    "    x = np.array(x)\n",
    "    y = np.array(y)\n",
    "    \n",
    "    # check if sorted\n",
    "    if np.any(np.diff(x) < 0):\n",
    "        idx = np.argsort(x)\n",
    "        x = x[idx]\n",
    "        y = y[idx]\n",
    "        \n",
    "    size = len(x)\n",
    "    delta_x = np.diff(x)\n",
    "    delta_y = np.diff(y)\n",
    "    \n",
    "    # Get A and b\n",
    "    A = np.zeros(shape = (size,size))\n",
    "    b = np.zeros(shape=(size,1))\n",
    "    A[0,0] = 1\n",
    "    A[-1,-1] = 1\n",
    "    \n",
    "    for i in range(1,size-1):\n",
    "        \n",
    "        A[i, i-1] = delta_x[i-1]\n",
    "        A[i, i+1] = delta_x[i]\n",
    "        A[i,i] = 2*(delta_x[i-1]+delta_x[i])\n",
    "        \n",
    "        b[i,0] = 3*(delta_y[i]/delta_x[i] - delta_y[i-1]/delta_x[i-1])\n",
    "    \n",
    "    # Solves for c in Ac = b\n",
    "    c = np.linalg.solve(A, b)\n",
    "    \n",
    "    # Solves for d and b\n",
    "    d = np.zeros(shape = (size-1,1))\n",
    "    b = np.zeros(shape = (size-1,1))\n",
    "    for i in range(0,len(d)):\n",
    "        d[i] = (c[i+1] - c[i]) / (3*delta_x[i])\n",
    "        b[i] = (delta_y[i]/delta_x[i]) - (delta_x[i]/3)*(2*c[i] + c[i+1])    \n",
    "    \n",
    "    return x, y, b.squeeze(), c.squeeze(), d.squeeze()\n",
    "    \n",
    "    \n",
    "def evaluate_spline(x, y, b, c, d, t):\n",
    "    \n",
    "    if t < x[0] or t > x[-1]:\n",
    "        raise Exception(\"Can't extrapolate\")\n",
    "\n",
    "    # Index of segment to use\n",
    "    idx = np.argmax(x > t) - 1\n",
    "            \n",
    "    dx = t - x[idx]\n",
    "    value = y[idx] + b[idx]*dx + c[idx]*dx**2 + d[idx]*dx**3\n",
    "    return value\n",
    "\n",
    "def sample_spline(x, y, b, c, d, num=500):\n",
    "    \n",
    "    interp_y = np.zeros((num,))\n",
    "    t = np.linspace(x[0], x[-1], num=num, endpoint=False)\n",
    "    \n",
    "    for i, t_i in enumerate(t):\n",
    "        interp_y[i] = evaluate_spline(x, y, b, c, d, t_i)\n",
    "        \n",
    "    return t, interp_y\n",
    "        \n",
    "    "
   ]
  },
  {
   "cell_type": "code",
   "execution_count": 4,
   "metadata": {},
   "outputs": [
    {
     "data": {
      "text/plain": [
       "[<matplotlib.lines.Line2D at 0x7f731b79a370>]"
      ]
     },
     "execution_count": 4,
     "metadata": {},
     "output_type": "execute_result"
    },
    {
     "data": {
      "image/png": "[encoded data removed]",
      "text/plain": [
       "<Figure size 432x288 with 1 Axes>"
      ]
     },
     "metadata": {
      "needs_background": "light"
     },
     "output_type": "display_data"
    }
   ],
   "source": [
    "import random\n",
    "import matplotlib.pyplot as plt\n",
    "\n",
    "key_points= np.array([[random.random()*3.0,random.random()*2.0-1.0] for i in range(5)])\n",
    "\n",
    "plt.plot(key_points[:, 0], key_points[:, 1], \"*b\")\n",
    "\n",
    "x, y, b, c, d = cubic_spline(key_points[:, 0], key_points[:, 1])\n",
    "\n",
    "t, interp_y = sample_spline(x, y, b, c, d)\n",
    "\n",
    "\n",
    "plt.plot(t, interp_y)\n",
    "\n"
   ]
  }
 ],
 "metadata": {
  "kernelspec": {
   "display_name": "Python 3",
   "language": "python",
   "name": "python3"
  },
  "language_info": {
   "codemirror_mode": {
    "name": "ipython",
    "version": 3
   },
   "file_extension": ".py",
   "mimetype": "text/x-python",
   "name": "python",
   "nbconvert_exporter": "python",
   "pygments_lexer": "ipython3",
   "version": "3.8.0"
  }
 },
 "nbformat": 4,
 "nbformat_minor": 2
}
