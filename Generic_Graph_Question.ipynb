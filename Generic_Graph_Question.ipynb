{
 "cells": [
  {
   "cell_type": "markdown",
   "metadata": {},
   "source": [
    "## Graph Interview Question\n",
    "\n",
    "Our team uses plenty of standard programming and algorithms. Familarity with basic graph manipulation can really help. This is a simple problem to see if you can make a copy of a graph. \n",
    "\n",
    "\n"
   ]
  },
  {
   "cell_type": "markdown",
   "metadata": {},
   "source": [
    "### Problem\n",
    "\n",
    "Given a reference of a node in a connected undirected graph.\n",
    "\n",
    "Return a deep copy (clone) of the graph.\n",
    "\n",
    "Each node in the graph contains a val (int) and a list (List[Node]) of its neighbors."
   ]
  },
  {
   "cell_type": "code",
   "execution_count": null,
   "metadata": {},
   "outputs": [],
   "source": [
    "class Node:\n",
    "    def __init__(self, val = 0, neighbors = None):\n",
    "        self.val = val\n",
    "        self.neighbors = neighbors if neighbors is not None else []\n",
    "        \n",
    "    def __str__(self):\n",
    "        neighbors = [neighbor.val for neighbor in self.neighbors]\n",
    "        string_rep = f\"[val: {self.val}, neighbors: {neighbors}]\"\n",
    "        return string_rep\n",
    "    \n",
    "    def __repr__(self):\n",
    "        return str(self)"
   ]
  },
  {
   "cell_type": "markdown",
   "metadata": {},
   "source": [
    "### Test case format:\n",
    "\n",
    "For simplicity sake, each node's value is the same as the node's index (1-indexed). For example, the first node with val = 1, the second node with val = 2, and so on. The graph is represented in the test case using an adjacency list.\n",
    "\n",
    "**Adjacency list** is a collection of unordered **lists** used to represent a finite graph. Each list describes the set of neighbors of a node in the graph.\n",
    "\n",
    "The given node will always be the first node with val = 1. You must return the **copy of the given node** as a reference to the cloned graph.\n",
    "\n",
    "\n",
    "**Example:**\n",
    "\n",
    " <img src=\"img/133_clone_graph_question.png\" width=\"500\"/>\n",
    "\n",
    "\n",
    "**Input**: adjList = [[2,4],[1,3],[2,4],[1,3]]\n",
    "\n",
    "**Output**: [[2,4],[1,3],[2,4],[1,3]]\n",
    "\n",
    "Explanation: There are 4 nodes in the graph.\n",
    "\n",
    "1st node (val = 1)'s neighbors are 2nd node (val = 2) and 4th node (val = 4).<br>\n",
    "2nd node (val = 2)'s neighbors are 1st node (val = 1) and 3rd node (val = 3).<br>\n",
    "3rd node (val = 3)'s neighbors are 2nd node (val = 2) and 4th node (val = 4).<br>\n",
    "4th node (val = 4)'s neighbors are 1st node (val = 1) and 3rd node (val = 3).<br>\n",
    "\n",
    "**Constraints:**\n",
    "\n",
    "* 1 <= Node.val <= 100\n",
    "* Node.val is unique for each node.\n",
    "* Number of Nodes will not exceed 100.\n",
    "* There is no repeated edges and no self-loops in the graph.\n",
    "* The Graph is connected and all nodes can be visited starting from the given node.\n",
    "\n"
   ]
  },
  {
   "cell_type": "code",
   "execution_count": null,
   "metadata": {},
   "outputs": [],
   "source": [
    "\"\"\"\n",
    "# Definition for a Node.\n",
    "class Node:\n",
    "    def __init__(self, val = 0, neighbors = None):\n",
    "        self.val = val\n",
    "        self.neighbors = neighbors if neighbors is not None else []\n",
    "\"\"\"\n",
    "\n",
    "def cloneGraph(node: 'Node') -> 'Node':\n",
    "    \n",
    "    # Your solution here :)\n",
    "    pass\n",
    "        "
   ]
  },
  {
   "cell_type": "markdown",
   "metadata": {},
   "source": [
    "\n",
    "**Example Input**\n",
    "\n",
    "Note that the copy of the graph shouldn't share any nodes with the original. Our test cases will check that the copy has the same node values and edges and that no original node is in the copy.\n"
   ]
  },
  {
   "cell_type": "code",
   "execution_count": null,
   "metadata": {},
   "outputs": [],
   "source": [
    "\n",
    "nodes = (Node(0), Node(1), Node(2), Node(3))\n",
    "\n",
    "nodes[0].neighbors = (nodes[1],)\n",
    "nodes[1].neighbors = (nodes[0], nodes[2], nodes[3])\n",
    "nodes[2].neighbors = (nodes[1], nodes[3])\n",
    "nodes[3].neighbors = (nodes[1], nodes[2])\n",
    "\n",
    "response = cloneGraph(nodes[0])\n",
    "\n",
    "print(f\"Expected: {nodes}\")\n",
    "print(f\"Got: {response}\")"
   ]
  },
  {
   "cell_type": "code",
   "execution_count": null,
   "metadata": {},
   "outputs": [],
   "source": []
  },
  {
   "cell_type": "code",
   "execution_count": null,
   "metadata": {},
   "outputs": [],
   "source": []
  },
  {
   "cell_type": "code",
   "execution_count": null,
   "metadata": {},
   "outputs": [],
   "source": []
  },
  {
   "cell_type": "code",
   "execution_count": null,
   "metadata": {},
   "outputs": [],
   "source": []
  }
 ],
 "metadata": {
  "kernelspec": {
   "display_name": "Python 3",
   "language": "python",
   "name": "python3"
  },
  "language_info": {
   "codemirror_mode": {
    "name": "ipython",
    "version": 3
   },
   "file_extension": ".py",
   "mimetype": "text/x-python",
   "name": "python",
   "nbconvert_exporter": "python",
   "pygments_lexer": "ipython3",
   "version": "3.8.0"
  }
 },
 "nbformat": 4,
 "nbformat_minor": 4
}
