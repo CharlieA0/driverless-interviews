{
 "cells": [
  {
   "cell_type": "markdown",
   "metadata": {},
   "source": [
    "Given a reference of a node in a connected undirected graph.\n",
    "\n",
    "Return a deep copy (clone) of the graph.\n",
    "\n",
    "Each node in the graph contains a val (int) and a list (List[Node]) of its neighbors.\n"
   ]
  },
  {
   "cell_type": "code",
   "execution_count": 80,
   "metadata": {},
   "outputs": [],
   "source": [
    "class Node:\n",
    "    def __init__(self, val = 0, neighbors = None):\n",
    "        self.val = val\n",
    "        self.neighbors = neighbors if neighbors is not None else []\n",
    "        \n",
    "    def __str__(self):\n",
    "        neighbors = [neighbor.val for neighbor in self.neighbors]\n",
    "        string_rep = f\"[val: {self.val}, neighbors: {neighbors}]\"\n",
    "        return string_rep\n",
    "    "
   ]
  },
  {
   "cell_type": "markdown",
   "metadata": {},
   "source": [
    "### Test case format:\n",
    "\n",
    "For simplicity sake, each node's value is the same as the node's index (1-indexed). For example, the first node with val = 1, the second node with val = 2, and so on. The graph is represented in the test case using an adjacency list.\n",
    "\n",
    "**Adjacency list** is a collection of unordered **lists** used to represent a finite graph. Each list describes the set of neighbors of a node in the graph.\n",
    "\n",
    "The given node will always be the first node with val = 1. You must return the **copy of the given node** as a reference to the cloned graph.\n",
    "\n",
    "\n",
    "**Example:**\n",
    "\n",
    " <img src=\"img/133_clone_graph_question.png\" width=\"500\"/>\n",
    "\n",
    "\n",
    "**Input**: adjList = [[2,4],[1,3],[2,4],[1,3]]\n",
    "\n",
    "**Output**: [[2,4],[1,3],[2,4],[1,3]]\n",
    "\n",
    "Explanation: There are 4 nodes in the graph.\n",
    "\n",
    "1st node (val = 1)'s neighbors are 2nd node (val = 2) and 4th node (val = 4).<br>\n",
    "2nd node (val = 2)'s neighbors are 1st node (val = 1) and 3rd node (val = 3).<br>\n",
    "3rd node (val = 3)'s neighbors are 2nd node (val = 2) and 4th node (val = 4).<br>\n",
    "4th node (val = 4)'s neighbors are 1st node (val = 1) and 3rd node (val = 3).<br>\n",
    "\n",
    "**Constraints:**\n",
    "\n",
    "* 1 <= Node.val <= 100\n",
    "* Node.val is unique for each node.\n",
    "* Number of Nodes will not exceed 100.\n",
    "* There is no repeated edges and no self-loops in the graph.\n",
    "* The Graph is connected and all nodes can be visited starting from the given node.\n",
    "\n"
   ]
  },
  {
   "cell_type": "markdown",
   "metadata": {},
   "source": [
    "# Solution"
   ]
  },
  {
   "cell_type": "code",
   "execution_count": 82,
   "metadata": {},
   "outputs": [],
   "source": [
    "\"\"\"\n",
    "# Definition for a Node.\n",
    "class Node:\n",
    "    def __init__(self, val = 0, neighbors = None):\n",
    "        self.val = val\n",
    "        self.neighbors = neighbors if neighbors is not None else []\n",
    "\"\"\"\n",
    "\n",
    "\n",
    "def cloneGraph(node: 'Node') -> 'Node':\n",
    "    \n",
    "    nodes = {node.val : Node(node.val)}\n",
    "    leaves = {nodes[node.val]}\n",
    "    \n",
    "    while len(leaves) != 0:\n",
    "        next_node = leaves.pop()\n",
    "        next_neighbors = set()\n",
    "        \n",
    "        for neighbor in next_node.neighbors:\n",
    "            if neighbor.val in nodes:\n",
    "                next_neighbors.add(nodes[next_node.val])\n",
    "                \n",
    "            else:\n",
    "                nodes[neighbor.val] = Node(neighbor.val)\n",
    "                leaves.add(neighbor)\n",
    "                \n",
    "        next_node.neighbors = next_neighbors\n",
    "    \n",
    "    return node\n",
    "    "
   ]
  },
  {
   "cell_type": "markdown",
   "metadata": {},
   "source": [
    "\n",
    "**Test Case**\n"
   ]
  },
  {
   "cell_type": "code",
   "execution_count": 89,
   "metadata": {},
   "outputs": [
    {
     "name": "stdout",
     "output_type": "stream",
     "text": [
      "\n",
      "Correct! Great job!\n",
      "\n"
     ]
    }
   ],
   "source": [
    "\n",
    "nodes = (Node(0), Node(1), Node(2), Node(3))\n",
    "\n",
    "nodes[0].neighbors = (nodes[1],)\n",
    "nodes[1].neighbors = (nodes[0], nodes[2], nodes[3])\n",
    "nodes[2].neighbors = (nodes[1], nodes[3])\n",
    "nodes[3].neighbors = (nodes[1], nodes[2])\n",
    "\n",
    "response = cloneGraph(nodes[0])\n",
    "\n",
    "def checkAnswer(response, solution, seen = None):\n",
    "    \n",
    "    if seen is None:\n",
    "        seen = set()\n",
    "    \n",
    "    if response.val != solution.val:\n",
    "        raise Exception(f\"Node {solution.val} has wrong value {response.val}\")\n",
    "    \n",
    "    response_neighbors = {neighbor.val for neighbor in response.neighbors}\n",
    "    solution_neighbors = {neighbor.val for neighbor in solution.neighbors}\n",
    "    \n",
    "    if response_neighbors != solution_neighbors:\n",
    "        raise Exception(f\"Node {solution.val} neighbors {response_neighbors} don't match {solution_neighbors}\")\n",
    "        \n",
    "    for node in response.neighbors:\n",
    "        \n",
    "        if node not in seen:\n",
    "            seen.add(node)\n",
    "            checkAnswer(node, nodes[node.val], seen)\n",
    "\n",
    "    \n",
    "            \n",
    "checkAnswer(response, nodes[0])\n",
    "\n",
    "print(\"\\nCorrect! Great job!\\n\")"
   ]
  }
 ],
 "metadata": {
  "kernelspec": {
   "display_name": "Python 3",
   "language": "python",
   "name": "python3"
  },
  "language_info": {
   "codemirror_mode": {
    "name": "ipython",
    "version": 3
   },
   "file_extension": ".py",
   "mimetype": "text/x-python",
   "name": "python",
   "nbconvert_exporter": "python",
   "pygments_lexer": "ipython3",
   "version": "3.8.0"
  }
 },
 "nbformat": 4,
 "nbformat_minor": 4
}
